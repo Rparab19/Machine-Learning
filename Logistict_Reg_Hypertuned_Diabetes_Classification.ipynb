{
 "cells": [
  {
   "cell_type": "code",
   "execution_count": 1,
   "id": "2d82eda9",
   "metadata": {},
   "outputs": [],
   "source": [
    "import pandas as pd\n",
    "import numpy as np\n",
    "import matplotlib.pyplot as plt\n",
    "import seaborn as sns\n",
    "\n",
    "import warnings\n",
    "warnings.filterwarnings(\"ignore\")"
   ]
  },
  {
   "cell_type": "code",
   "execution_count": 2,
   "id": "25a261a8",
   "metadata": {},
   "outputs": [
    {
     "data": {
      "text/html": [
       "<div>\n",
       "<style scoped>\n",
       "    .dataframe tbody tr th:only-of-type {\n",
       "        vertical-align: middle;\n",
       "    }\n",
       "\n",
       "    .dataframe tbody tr th {\n",
       "        vertical-align: top;\n",
       "    }\n",
       "\n",
       "    .dataframe thead th {\n",
       "        text-align: right;\n",
       "    }\n",
       "</style>\n",
       "<table border=\"1\" class=\"dataframe\">\n",
       "  <thead>\n",
       "    <tr style=\"text-align: right;\">\n",
       "      <th></th>\n",
       "      <th>Pregnancies</th>\n",
       "      <th>Glucose</th>\n",
       "      <th>BloodPressure</th>\n",
       "      <th>SkinThickness</th>\n",
       "      <th>Insulin</th>\n",
       "      <th>BMI</th>\n",
       "      <th>DiabetesPedigreeFunction</th>\n",
       "      <th>Age</th>\n",
       "      <th>Outcome</th>\n",
       "    </tr>\n",
       "  </thead>\n",
       "  <tbody>\n",
       "    <tr>\n",
       "      <th>0</th>\n",
       "      <td>6</td>\n",
       "      <td>148</td>\n",
       "      <td>72</td>\n",
       "      <td>35</td>\n",
       "      <td>0</td>\n",
       "      <td>33.6</td>\n",
       "      <td>0.627</td>\n",
       "      <td>50</td>\n",
       "      <td>1</td>\n",
       "    </tr>\n",
       "    <tr>\n",
       "      <th>1</th>\n",
       "      <td>1</td>\n",
       "      <td>85</td>\n",
       "      <td>66</td>\n",
       "      <td>29</td>\n",
       "      <td>0</td>\n",
       "      <td>26.6</td>\n",
       "      <td>0.351</td>\n",
       "      <td>31</td>\n",
       "      <td>0</td>\n",
       "    </tr>\n",
       "    <tr>\n",
       "      <th>2</th>\n",
       "      <td>8</td>\n",
       "      <td>183</td>\n",
       "      <td>64</td>\n",
       "      <td>0</td>\n",
       "      <td>0</td>\n",
       "      <td>23.3</td>\n",
       "      <td>0.672</td>\n",
       "      <td>32</td>\n",
       "      <td>1</td>\n",
       "    </tr>\n",
       "    <tr>\n",
       "      <th>3</th>\n",
       "      <td>1</td>\n",
       "      <td>89</td>\n",
       "      <td>66</td>\n",
       "      <td>23</td>\n",
       "      <td>94</td>\n",
       "      <td>28.1</td>\n",
       "      <td>0.167</td>\n",
       "      <td>21</td>\n",
       "      <td>0</td>\n",
       "    </tr>\n",
       "    <tr>\n",
       "      <th>4</th>\n",
       "      <td>0</td>\n",
       "      <td>137</td>\n",
       "      <td>40</td>\n",
       "      <td>35</td>\n",
       "      <td>168</td>\n",
       "      <td>43.1</td>\n",
       "      <td>2.288</td>\n",
       "      <td>33</td>\n",
       "      <td>1</td>\n",
       "    </tr>\n",
       "  </tbody>\n",
       "</table>\n",
       "</div>"
      ],
      "text/plain": [
       "   Pregnancies  Glucose  BloodPressure  SkinThickness  Insulin   BMI  \\\n",
       "0            6      148             72             35        0  33.6   \n",
       "1            1       85             66             29        0  26.6   \n",
       "2            8      183             64              0        0  23.3   \n",
       "3            1       89             66             23       94  28.1   \n",
       "4            0      137             40             35      168  43.1   \n",
       "\n",
       "   DiabetesPedigreeFunction  Age  Outcome  \n",
       "0                     0.627   50        1  \n",
       "1                     0.351   31        0  \n",
       "2                     0.672   32        1  \n",
       "3                     0.167   21        0  \n",
       "4                     2.288   33        1  "
      ]
     },
     "execution_count": 2,
     "metadata": {},
     "output_type": "execute_result"
    }
   ],
   "source": [
    "df = pd.read_csv(\"DataSets/diabetes.csv\")\n",
    "df.head()"
   ]
  },
  {
   "cell_type": "code",
   "execution_count": 3,
   "id": "cce11544",
   "metadata": {},
   "outputs": [
    {
     "name": "stdout",
     "output_type": "stream",
     "text": [
      "<class 'pandas.core.frame.DataFrame'>\n",
      "RangeIndex: 768 entries, 0 to 767\n",
      "Data columns (total 9 columns):\n",
      " #   Column                    Non-Null Count  Dtype  \n",
      "---  ------                    --------------  -----  \n",
      " 0   Pregnancies               768 non-null    int64  \n",
      " 1   Glucose                   768 non-null    int64  \n",
      " 2   BloodPressure             768 non-null    int64  \n",
      " 3   SkinThickness             768 non-null    int64  \n",
      " 4   Insulin                   768 non-null    int64  \n",
      " 5   BMI                       768 non-null    float64\n",
      " 6   DiabetesPedigreeFunction  768 non-null    float64\n",
      " 7   Age                       768 non-null    int64  \n",
      " 8   Outcome                   768 non-null    int64  \n",
      "dtypes: float64(2), int64(7)\n",
      "memory usage: 54.1 KB\n"
     ]
    }
   ],
   "source": [
    "df.info()"
   ]
  },
  {
   "cell_type": "code",
   "execution_count": 4,
   "id": "0c1712f6",
   "metadata": {},
   "outputs": [
    {
     "data": {
      "text/plain": [
       "0    500\n",
       "1    268\n",
       "Name: Outcome, dtype: int64"
      ]
     },
     "execution_count": 4,
     "metadata": {},
     "output_type": "execute_result"
    }
   ],
   "source": [
    "df[\"Outcome\"].value_counts()"
   ]
  },
  {
   "cell_type": "code",
   "execution_count": 5,
   "id": "7f09a2d5",
   "metadata": {},
   "outputs": [
    {
     "data": {
      "text/html": [
       "<div>\n",
       "<style scoped>\n",
       "    .dataframe tbody tr th:only-of-type {\n",
       "        vertical-align: middle;\n",
       "    }\n",
       "\n",
       "    .dataframe tbody tr th {\n",
       "        vertical-align: top;\n",
       "    }\n",
       "\n",
       "    .dataframe thead th {\n",
       "        text-align: right;\n",
       "    }\n",
       "</style>\n",
       "<table border=\"1\" class=\"dataframe\">\n",
       "  <thead>\n",
       "    <tr style=\"text-align: right;\">\n",
       "      <th></th>\n",
       "      <th>Pregnancies</th>\n",
       "      <th>Glucose</th>\n",
       "      <th>BloodPressure</th>\n",
       "      <th>SkinThickness</th>\n",
       "      <th>Insulin</th>\n",
       "      <th>BMI</th>\n",
       "      <th>DiabetesPedigreeFunction</th>\n",
       "      <th>Age</th>\n",
       "      <th>Outcome</th>\n",
       "    </tr>\n",
       "  </thead>\n",
       "  <tbody>\n",
       "    <tr>\n",
       "      <th>count</th>\n",
       "      <td>768.000000</td>\n",
       "      <td>768.000000</td>\n",
       "      <td>768.000000</td>\n",
       "      <td>768.000000</td>\n",
       "      <td>768.000000</td>\n",
       "      <td>768.000000</td>\n",
       "      <td>768.000000</td>\n",
       "      <td>768.000000</td>\n",
       "      <td>768.000000</td>\n",
       "    </tr>\n",
       "    <tr>\n",
       "      <th>mean</th>\n",
       "      <td>3.845052</td>\n",
       "      <td>120.894531</td>\n",
       "      <td>69.105469</td>\n",
       "      <td>20.536458</td>\n",
       "      <td>79.799479</td>\n",
       "      <td>31.992578</td>\n",
       "      <td>0.471876</td>\n",
       "      <td>33.240885</td>\n",
       "      <td>0.348958</td>\n",
       "    </tr>\n",
       "    <tr>\n",
       "      <th>std</th>\n",
       "      <td>3.369578</td>\n",
       "      <td>31.972618</td>\n",
       "      <td>19.355807</td>\n",
       "      <td>15.952218</td>\n",
       "      <td>115.244002</td>\n",
       "      <td>7.884160</td>\n",
       "      <td>0.331329</td>\n",
       "      <td>11.760232</td>\n",
       "      <td>0.476951</td>\n",
       "    </tr>\n",
       "    <tr>\n",
       "      <th>min</th>\n",
       "      <td>0.000000</td>\n",
       "      <td>0.000000</td>\n",
       "      <td>0.000000</td>\n",
       "      <td>0.000000</td>\n",
       "      <td>0.000000</td>\n",
       "      <td>0.000000</td>\n",
       "      <td>0.078000</td>\n",
       "      <td>21.000000</td>\n",
       "      <td>0.000000</td>\n",
       "    </tr>\n",
       "    <tr>\n",
       "      <th>25%</th>\n",
       "      <td>1.000000</td>\n",
       "      <td>99.000000</td>\n",
       "      <td>62.000000</td>\n",
       "      <td>0.000000</td>\n",
       "      <td>0.000000</td>\n",
       "      <td>27.300000</td>\n",
       "      <td>0.243750</td>\n",
       "      <td>24.000000</td>\n",
       "      <td>0.000000</td>\n",
       "    </tr>\n",
       "    <tr>\n",
       "      <th>50%</th>\n",
       "      <td>3.000000</td>\n",
       "      <td>117.000000</td>\n",
       "      <td>72.000000</td>\n",
       "      <td>23.000000</td>\n",
       "      <td>30.500000</td>\n",
       "      <td>32.000000</td>\n",
       "      <td>0.372500</td>\n",
       "      <td>29.000000</td>\n",
       "      <td>0.000000</td>\n",
       "    </tr>\n",
       "    <tr>\n",
       "      <th>75%</th>\n",
       "      <td>6.000000</td>\n",
       "      <td>140.250000</td>\n",
       "      <td>80.000000</td>\n",
       "      <td>32.000000</td>\n",
       "      <td>127.250000</td>\n",
       "      <td>36.600000</td>\n",
       "      <td>0.626250</td>\n",
       "      <td>41.000000</td>\n",
       "      <td>1.000000</td>\n",
       "    </tr>\n",
       "    <tr>\n",
       "      <th>max</th>\n",
       "      <td>17.000000</td>\n",
       "      <td>199.000000</td>\n",
       "      <td>122.000000</td>\n",
       "      <td>99.000000</td>\n",
       "      <td>846.000000</td>\n",
       "      <td>67.100000</td>\n",
       "      <td>2.420000</td>\n",
       "      <td>81.000000</td>\n",
       "      <td>1.000000</td>\n",
       "    </tr>\n",
       "  </tbody>\n",
       "</table>\n",
       "</div>"
      ],
      "text/plain": [
       "       Pregnancies     Glucose  BloodPressure  SkinThickness     Insulin  \\\n",
       "count   768.000000  768.000000     768.000000     768.000000  768.000000   \n",
       "mean      3.845052  120.894531      69.105469      20.536458   79.799479   \n",
       "std       3.369578   31.972618      19.355807      15.952218  115.244002   \n",
       "min       0.000000    0.000000       0.000000       0.000000    0.000000   \n",
       "25%       1.000000   99.000000      62.000000       0.000000    0.000000   \n",
       "50%       3.000000  117.000000      72.000000      23.000000   30.500000   \n",
       "75%       6.000000  140.250000      80.000000      32.000000  127.250000   \n",
       "max      17.000000  199.000000     122.000000      99.000000  846.000000   \n",
       "\n",
       "              BMI  DiabetesPedigreeFunction         Age     Outcome  \n",
       "count  768.000000                768.000000  768.000000  768.000000  \n",
       "mean    31.992578                  0.471876   33.240885    0.348958  \n",
       "std      7.884160                  0.331329   11.760232    0.476951  \n",
       "min      0.000000                  0.078000   21.000000    0.000000  \n",
       "25%     27.300000                  0.243750   24.000000    0.000000  \n",
       "50%     32.000000                  0.372500   29.000000    0.000000  \n",
       "75%     36.600000                  0.626250   41.000000    1.000000  \n",
       "max     67.100000                  2.420000   81.000000    1.000000  "
      ]
     },
     "execution_count": 5,
     "metadata": {},
     "output_type": "execute_result"
    }
   ],
   "source": [
    "df.describe()"
   ]
  },
  {
   "cell_type": "code",
   "execution_count": 6,
   "id": "a6e1be1f",
   "metadata": {},
   "outputs": [
    {
     "data": {
      "text/plain": [
       "Index(['Pregnancies', 'Glucose', 'BloodPressure', 'SkinThickness', 'Insulin',\n",
       "       'BMI', 'DiabetesPedigreeFunction', 'Age', 'Outcome'],\n",
       "      dtype='object')"
      ]
     },
     "execution_count": 6,
     "metadata": {},
     "output_type": "execute_result"
    }
   ],
   "source": [
    "df.columns"
   ]
  },
  {
   "cell_type": "code",
   "execution_count": 7,
   "id": "3c6fbe0b",
   "metadata": {},
   "outputs": [],
   "source": [
    "col_names =['Glucose', 'BloodPressure', 'SkinThickness', 'Insulin','BMI']\n",
    "\n",
    "for i in col_names:\n",
    "    df[i].replace(0,np.NaN,inplace=True)\n",
    "    df[i].fillna(df[i].mean(),inplace=True)"
   ]
  },
  {
   "cell_type": "code",
   "execution_count": 8,
   "id": "b3ba7cf4",
   "metadata": {},
   "outputs": [
    {
     "data": {
      "text/html": [
       "<div>\n",
       "<style scoped>\n",
       "    .dataframe tbody tr th:only-of-type {\n",
       "        vertical-align: middle;\n",
       "    }\n",
       "\n",
       "    .dataframe tbody tr th {\n",
       "        vertical-align: top;\n",
       "    }\n",
       "\n",
       "    .dataframe thead th {\n",
       "        text-align: right;\n",
       "    }\n",
       "</style>\n",
       "<table border=\"1\" class=\"dataframe\">\n",
       "  <thead>\n",
       "    <tr style=\"text-align: right;\">\n",
       "      <th></th>\n",
       "      <th>Pregnancies</th>\n",
       "      <th>Glucose</th>\n",
       "      <th>BloodPressure</th>\n",
       "      <th>SkinThickness</th>\n",
       "      <th>Insulin</th>\n",
       "      <th>BMI</th>\n",
       "      <th>DiabetesPedigreeFunction</th>\n",
       "      <th>Age</th>\n",
       "      <th>Outcome</th>\n",
       "    </tr>\n",
       "  </thead>\n",
       "  <tbody>\n",
       "    <tr>\n",
       "      <th>count</th>\n",
       "      <td>768.000000</td>\n",
       "      <td>768.000000</td>\n",
       "      <td>768.000000</td>\n",
       "      <td>768.000000</td>\n",
       "      <td>768.000000</td>\n",
       "      <td>768.000000</td>\n",
       "      <td>768.000000</td>\n",
       "      <td>768.000000</td>\n",
       "      <td>768.000000</td>\n",
       "    </tr>\n",
       "    <tr>\n",
       "      <th>mean</th>\n",
       "      <td>3.845052</td>\n",
       "      <td>121.686763</td>\n",
       "      <td>72.405184</td>\n",
       "      <td>29.153420</td>\n",
       "      <td>155.548223</td>\n",
       "      <td>32.457464</td>\n",
       "      <td>0.471876</td>\n",
       "      <td>33.240885</td>\n",
       "      <td>0.348958</td>\n",
       "    </tr>\n",
       "    <tr>\n",
       "      <th>std</th>\n",
       "      <td>3.369578</td>\n",
       "      <td>30.435949</td>\n",
       "      <td>12.096346</td>\n",
       "      <td>8.790942</td>\n",
       "      <td>85.021108</td>\n",
       "      <td>6.875151</td>\n",
       "      <td>0.331329</td>\n",
       "      <td>11.760232</td>\n",
       "      <td>0.476951</td>\n",
       "    </tr>\n",
       "    <tr>\n",
       "      <th>min</th>\n",
       "      <td>0.000000</td>\n",
       "      <td>44.000000</td>\n",
       "      <td>24.000000</td>\n",
       "      <td>7.000000</td>\n",
       "      <td>14.000000</td>\n",
       "      <td>18.200000</td>\n",
       "      <td>0.078000</td>\n",
       "      <td>21.000000</td>\n",
       "      <td>0.000000</td>\n",
       "    </tr>\n",
       "    <tr>\n",
       "      <th>25%</th>\n",
       "      <td>1.000000</td>\n",
       "      <td>99.750000</td>\n",
       "      <td>64.000000</td>\n",
       "      <td>25.000000</td>\n",
       "      <td>121.500000</td>\n",
       "      <td>27.500000</td>\n",
       "      <td>0.243750</td>\n",
       "      <td>24.000000</td>\n",
       "      <td>0.000000</td>\n",
       "    </tr>\n",
       "    <tr>\n",
       "      <th>50%</th>\n",
       "      <td>3.000000</td>\n",
       "      <td>117.000000</td>\n",
       "      <td>72.202592</td>\n",
       "      <td>29.153420</td>\n",
       "      <td>155.548223</td>\n",
       "      <td>32.400000</td>\n",
       "      <td>0.372500</td>\n",
       "      <td>29.000000</td>\n",
       "      <td>0.000000</td>\n",
       "    </tr>\n",
       "    <tr>\n",
       "      <th>75%</th>\n",
       "      <td>6.000000</td>\n",
       "      <td>140.250000</td>\n",
       "      <td>80.000000</td>\n",
       "      <td>32.000000</td>\n",
       "      <td>155.548223</td>\n",
       "      <td>36.600000</td>\n",
       "      <td>0.626250</td>\n",
       "      <td>41.000000</td>\n",
       "      <td>1.000000</td>\n",
       "    </tr>\n",
       "    <tr>\n",
       "      <th>max</th>\n",
       "      <td>17.000000</td>\n",
       "      <td>199.000000</td>\n",
       "      <td>122.000000</td>\n",
       "      <td>99.000000</td>\n",
       "      <td>846.000000</td>\n",
       "      <td>67.100000</td>\n",
       "      <td>2.420000</td>\n",
       "      <td>81.000000</td>\n",
       "      <td>1.000000</td>\n",
       "    </tr>\n",
       "  </tbody>\n",
       "</table>\n",
       "</div>"
      ],
      "text/plain": [
       "       Pregnancies     Glucose  BloodPressure  SkinThickness     Insulin  \\\n",
       "count   768.000000  768.000000     768.000000     768.000000  768.000000   \n",
       "mean      3.845052  121.686763      72.405184      29.153420  155.548223   \n",
       "std       3.369578   30.435949      12.096346       8.790942   85.021108   \n",
       "min       0.000000   44.000000      24.000000       7.000000   14.000000   \n",
       "25%       1.000000   99.750000      64.000000      25.000000  121.500000   \n",
       "50%       3.000000  117.000000      72.202592      29.153420  155.548223   \n",
       "75%       6.000000  140.250000      80.000000      32.000000  155.548223   \n",
       "max      17.000000  199.000000     122.000000      99.000000  846.000000   \n",
       "\n",
       "              BMI  DiabetesPedigreeFunction         Age     Outcome  \n",
       "count  768.000000                768.000000  768.000000  768.000000  \n",
       "mean    32.457464                  0.471876   33.240885    0.348958  \n",
       "std      6.875151                  0.331329   11.760232    0.476951  \n",
       "min     18.200000                  0.078000   21.000000    0.000000  \n",
       "25%     27.500000                  0.243750   24.000000    0.000000  \n",
       "50%     32.400000                  0.372500   29.000000    0.000000  \n",
       "75%     36.600000                  0.626250   41.000000    1.000000  \n",
       "max     67.100000                  2.420000   81.000000    1.000000  "
      ]
     },
     "execution_count": 8,
     "metadata": {},
     "output_type": "execute_result"
    }
   ],
   "source": [
    "df.describe()"
   ]
  },
  {
   "cell_type": "code",
   "execution_count": 9,
   "id": "105cd17b",
   "metadata": {},
   "outputs": [
    {
     "data": {
      "text/html": [
       "<div>\n",
       "<style scoped>\n",
       "    .dataframe tbody tr th:only-of-type {\n",
       "        vertical-align: middle;\n",
       "    }\n",
       "\n",
       "    .dataframe tbody tr th {\n",
       "        vertical-align: top;\n",
       "    }\n",
       "\n",
       "    .dataframe thead th {\n",
       "        text-align: right;\n",
       "    }\n",
       "</style>\n",
       "<table border=\"1\" class=\"dataframe\">\n",
       "  <thead>\n",
       "    <tr style=\"text-align: right;\">\n",
       "      <th></th>\n",
       "      <th>Pregnancies</th>\n",
       "      <th>Glucose</th>\n",
       "      <th>BloodPressure</th>\n",
       "      <th>SkinThickness</th>\n",
       "      <th>Insulin</th>\n",
       "      <th>BMI</th>\n",
       "      <th>DiabetesPedigreeFunction</th>\n",
       "      <th>Age</th>\n",
       "      <th>Outcome</th>\n",
       "    </tr>\n",
       "  </thead>\n",
       "  <tbody>\n",
       "    <tr>\n",
       "      <th>0</th>\n",
       "      <td>6</td>\n",
       "      <td>148.0</td>\n",
       "      <td>72.0</td>\n",
       "      <td>35.00000</td>\n",
       "      <td>155.548223</td>\n",
       "      <td>33.6</td>\n",
       "      <td>0.627</td>\n",
       "      <td>50</td>\n",
       "      <td>1</td>\n",
       "    </tr>\n",
       "    <tr>\n",
       "      <th>1</th>\n",
       "      <td>1</td>\n",
       "      <td>85.0</td>\n",
       "      <td>66.0</td>\n",
       "      <td>29.00000</td>\n",
       "      <td>155.548223</td>\n",
       "      <td>26.6</td>\n",
       "      <td>0.351</td>\n",
       "      <td>31</td>\n",
       "      <td>0</td>\n",
       "    </tr>\n",
       "    <tr>\n",
       "      <th>2</th>\n",
       "      <td>8</td>\n",
       "      <td>183.0</td>\n",
       "      <td>64.0</td>\n",
       "      <td>29.15342</td>\n",
       "      <td>155.548223</td>\n",
       "      <td>23.3</td>\n",
       "      <td>0.672</td>\n",
       "      <td>32</td>\n",
       "      <td>1</td>\n",
       "    </tr>\n",
       "    <tr>\n",
       "      <th>3</th>\n",
       "      <td>1</td>\n",
       "      <td>89.0</td>\n",
       "      <td>66.0</td>\n",
       "      <td>23.00000</td>\n",
       "      <td>94.000000</td>\n",
       "      <td>28.1</td>\n",
       "      <td>0.167</td>\n",
       "      <td>21</td>\n",
       "      <td>0</td>\n",
       "    </tr>\n",
       "    <tr>\n",
       "      <th>4</th>\n",
       "      <td>0</td>\n",
       "      <td>137.0</td>\n",
       "      <td>40.0</td>\n",
       "      <td>35.00000</td>\n",
       "      <td>168.000000</td>\n",
       "      <td>43.1</td>\n",
       "      <td>2.288</td>\n",
       "      <td>33</td>\n",
       "      <td>1</td>\n",
       "    </tr>\n",
       "  </tbody>\n",
       "</table>\n",
       "</div>"
      ],
      "text/plain": [
       "   Pregnancies  Glucose  BloodPressure  SkinThickness     Insulin   BMI  \\\n",
       "0            6    148.0           72.0       35.00000  155.548223  33.6   \n",
       "1            1     85.0           66.0       29.00000  155.548223  26.6   \n",
       "2            8    183.0           64.0       29.15342  155.548223  23.3   \n",
       "3            1     89.0           66.0       23.00000   94.000000  28.1   \n",
       "4            0    137.0           40.0       35.00000  168.000000  43.1   \n",
       "\n",
       "   DiabetesPedigreeFunction  Age  Outcome  \n",
       "0                     0.627   50        1  \n",
       "1                     0.351   31        0  \n",
       "2                     0.672   32        1  \n",
       "3                     0.167   21        0  \n",
       "4                     2.288   33        1  "
      ]
     },
     "execution_count": 9,
     "metadata": {},
     "output_type": "execute_result"
    }
   ],
   "source": [
    "df.head()"
   ]
  },
  {
   "cell_type": "markdown",
   "id": "c5e0e403",
   "metadata": {},
   "source": [
    "# Splitting the Data"
   ]
  },
  {
   "cell_type": "code",
   "execution_count": 10,
   "id": "fc2a7554",
   "metadata": {},
   "outputs": [
    {
     "data": {
      "text/html": [
       "<div>\n",
       "<style scoped>\n",
       "    .dataframe tbody tr th:only-of-type {\n",
       "        vertical-align: middle;\n",
       "    }\n",
       "\n",
       "    .dataframe tbody tr th {\n",
       "        vertical-align: top;\n",
       "    }\n",
       "\n",
       "    .dataframe thead th {\n",
       "        text-align: right;\n",
       "    }\n",
       "</style>\n",
       "<table border=\"1\" class=\"dataframe\">\n",
       "  <thead>\n",
       "    <tr style=\"text-align: right;\">\n",
       "      <th></th>\n",
       "      <th>Glucose</th>\n",
       "      <th>BloodPressure</th>\n",
       "      <th>SkinThickness</th>\n",
       "      <th>Insulin</th>\n",
       "      <th>BMI</th>\n",
       "      <th>DiabetesPedigreeFunction</th>\n",
       "      <th>Age</th>\n",
       "    </tr>\n",
       "  </thead>\n",
       "  <tbody>\n",
       "    <tr>\n",
       "      <th>0</th>\n",
       "      <td>148.0</td>\n",
       "      <td>72.0</td>\n",
       "      <td>35.00000</td>\n",
       "      <td>155.548223</td>\n",
       "      <td>33.6</td>\n",
       "      <td>0.627</td>\n",
       "      <td>50</td>\n",
       "    </tr>\n",
       "    <tr>\n",
       "      <th>1</th>\n",
       "      <td>85.0</td>\n",
       "      <td>66.0</td>\n",
       "      <td>29.00000</td>\n",
       "      <td>155.548223</td>\n",
       "      <td>26.6</td>\n",
       "      <td>0.351</td>\n",
       "      <td>31</td>\n",
       "    </tr>\n",
       "    <tr>\n",
       "      <th>2</th>\n",
       "      <td>183.0</td>\n",
       "      <td>64.0</td>\n",
       "      <td>29.15342</td>\n",
       "      <td>155.548223</td>\n",
       "      <td>23.3</td>\n",
       "      <td>0.672</td>\n",
       "      <td>32</td>\n",
       "    </tr>\n",
       "    <tr>\n",
       "      <th>3</th>\n",
       "      <td>89.0</td>\n",
       "      <td>66.0</td>\n",
       "      <td>23.00000</td>\n",
       "      <td>94.000000</td>\n",
       "      <td>28.1</td>\n",
       "      <td>0.167</td>\n",
       "      <td>21</td>\n",
       "    </tr>\n",
       "    <tr>\n",
       "      <th>4</th>\n",
       "      <td>137.0</td>\n",
       "      <td>40.0</td>\n",
       "      <td>35.00000</td>\n",
       "      <td>168.000000</td>\n",
       "      <td>43.1</td>\n",
       "      <td>2.288</td>\n",
       "      <td>33</td>\n",
       "    </tr>\n",
       "    <tr>\n",
       "      <th>...</th>\n",
       "      <td>...</td>\n",
       "      <td>...</td>\n",
       "      <td>...</td>\n",
       "      <td>...</td>\n",
       "      <td>...</td>\n",
       "      <td>...</td>\n",
       "      <td>...</td>\n",
       "    </tr>\n",
       "    <tr>\n",
       "      <th>763</th>\n",
       "      <td>101.0</td>\n",
       "      <td>76.0</td>\n",
       "      <td>48.00000</td>\n",
       "      <td>180.000000</td>\n",
       "      <td>32.9</td>\n",
       "      <td>0.171</td>\n",
       "      <td>63</td>\n",
       "    </tr>\n",
       "    <tr>\n",
       "      <th>764</th>\n",
       "      <td>122.0</td>\n",
       "      <td>70.0</td>\n",
       "      <td>27.00000</td>\n",
       "      <td>155.548223</td>\n",
       "      <td>36.8</td>\n",
       "      <td>0.340</td>\n",
       "      <td>27</td>\n",
       "    </tr>\n",
       "    <tr>\n",
       "      <th>765</th>\n",
       "      <td>121.0</td>\n",
       "      <td>72.0</td>\n",
       "      <td>23.00000</td>\n",
       "      <td>112.000000</td>\n",
       "      <td>26.2</td>\n",
       "      <td>0.245</td>\n",
       "      <td>30</td>\n",
       "    </tr>\n",
       "    <tr>\n",
       "      <th>766</th>\n",
       "      <td>126.0</td>\n",
       "      <td>60.0</td>\n",
       "      <td>29.15342</td>\n",
       "      <td>155.548223</td>\n",
       "      <td>30.1</td>\n",
       "      <td>0.349</td>\n",
       "      <td>47</td>\n",
       "    </tr>\n",
       "    <tr>\n",
       "      <th>767</th>\n",
       "      <td>93.0</td>\n",
       "      <td>70.0</td>\n",
       "      <td>31.00000</td>\n",
       "      <td>155.548223</td>\n",
       "      <td>30.4</td>\n",
       "      <td>0.315</td>\n",
       "      <td>23</td>\n",
       "    </tr>\n",
       "  </tbody>\n",
       "</table>\n",
       "<p>768 rows × 7 columns</p>\n",
       "</div>"
      ],
      "text/plain": [
       "     Glucose  BloodPressure  SkinThickness     Insulin   BMI  \\\n",
       "0      148.0           72.0       35.00000  155.548223  33.6   \n",
       "1       85.0           66.0       29.00000  155.548223  26.6   \n",
       "2      183.0           64.0       29.15342  155.548223  23.3   \n",
       "3       89.0           66.0       23.00000   94.000000  28.1   \n",
       "4      137.0           40.0       35.00000  168.000000  43.1   \n",
       "..       ...            ...            ...         ...   ...   \n",
       "763    101.0           76.0       48.00000  180.000000  32.9   \n",
       "764    122.0           70.0       27.00000  155.548223  36.8   \n",
       "765    121.0           72.0       23.00000  112.000000  26.2   \n",
       "766    126.0           60.0       29.15342  155.548223  30.1   \n",
       "767     93.0           70.0       31.00000  155.548223  30.4   \n",
       "\n",
       "     DiabetesPedigreeFunction  Age  \n",
       "0                       0.627   50  \n",
       "1                       0.351   31  \n",
       "2                       0.672   32  \n",
       "3                       0.167   21  \n",
       "4                       2.288   33  \n",
       "..                        ...  ...  \n",
       "763                     0.171   63  \n",
       "764                     0.340   27  \n",
       "765                     0.245   30  \n",
       "766                     0.349   47  \n",
       "767                     0.315   23  \n",
       "\n",
       "[768 rows x 7 columns]"
      ]
     },
     "execution_count": 10,
     "metadata": {},
     "output_type": "execute_result"
    }
   ],
   "source": [
    "X = df.iloc[:,1:-1]\n",
    "X"
   ]
  },
  {
   "cell_type": "code",
   "execution_count": 11,
   "id": "031e87ad",
   "metadata": {},
   "outputs": [
    {
     "data": {
      "text/plain": [
       "0      1\n",
       "1      0\n",
       "2      1\n",
       "3      0\n",
       "4      1\n",
       "      ..\n",
       "763    0\n",
       "764    0\n",
       "765    0\n",
       "766    1\n",
       "767    0\n",
       "Name: Outcome, Length: 768, dtype: int64"
      ]
     },
     "execution_count": 11,
     "metadata": {},
     "output_type": "execute_result"
    }
   ],
   "source": [
    "Y = df.Outcome\n",
    "Y"
   ]
  },
  {
   "cell_type": "markdown",
   "id": "01596ceb",
   "metadata": {},
   "source": [
    "# Basic Modelling"
   ]
  },
  {
   "cell_type": "code",
   "execution_count": 12,
   "id": "1edbffe3",
   "metadata": {},
   "outputs": [],
   "source": [
    "from sklearn.model_selection import train_test_split\n",
    "X_train,X_test,Y_train,Y_test = train_test_split(X,Y,test_size=0.2,random_state=1)"
   ]
  },
  {
   "cell_type": "code",
   "execution_count": 13,
   "id": "0665a18f",
   "metadata": {},
   "outputs": [],
   "source": [
    "from sklearn.linear_model import LogisticRegression\n",
    "\n",
    "model = LogisticRegression()\n",
    "\n",
    "model.fit(X_train,Y_train)\n",
    "\n",
    "Y_pred = model.predict(X_test)"
   ]
  },
  {
   "cell_type": "code",
   "execution_count": 14,
   "id": "6d9643a4",
   "metadata": {},
   "outputs": [
    {
     "name": "stdout",
     "output_type": "stream",
     "text": [
      "              precision    recall  f1-score   support\n",
      "\n",
      "           0       0.80      0.89      0.84        99\n",
      "           1       0.75      0.60      0.67        55\n",
      "\n",
      "    accuracy                           0.79       154\n",
      "   macro avg       0.78      0.74      0.75       154\n",
      "weighted avg       0.78      0.79      0.78       154\n",
      "\n"
     ]
    }
   ],
   "source": [
    "from sklearn.metrics import classification_report\n",
    "print(classification_report(Y_test,Y_pred))"
   ]
  },
  {
   "cell_type": "code",
   "execution_count": 15,
   "id": "d184fb6a",
   "metadata": {},
   "outputs": [
    {
     "name": "stdout",
     "output_type": "stream",
     "text": [
      "Actual    : [0 0 0 0 0 0 0 0 0 0 0 0 1 1 0 1 1 0 0 0 1 1 1 1 0]\n",
      "Predicted : [0 0 0 0 0 0 0 0 0 0 0 0 1 1 0 1 0 0 0 0 0 0 1 0 0]\n"
     ]
    }
   ],
   "source": [
    "print(f\"Actual    : {Y_test[:25].values}\")\n",
    "print(f\"Predicted : {Y_pred[:25]}\")"
   ]
  },
  {
   "cell_type": "markdown",
   "id": "1cec4422",
   "metadata": {},
   "source": [
    "# Getting probabilities of classification w.r.t [0,1]"
   ]
  },
  {
   "cell_type": "code",
   "execution_count": 16,
   "id": "fa2814ba",
   "metadata": {},
   "outputs": [
    {
     "data": {
      "text/plain": [
       "array([[0.57034671, 0.42965329],\n",
       "       [0.68681549, 0.31318451],\n",
       "       [0.89945534, 0.10054466],\n",
       "       [0.93075063, 0.06924937],\n",
       "       [0.73193043, 0.26806957],\n",
       "       [0.68068219, 0.31931781],\n",
       "       [0.67269849, 0.32730151],\n",
       "       [0.89082076, 0.10917924],\n",
       "       [0.79680484, 0.20319516],\n",
       "       [0.7274229 , 0.2725771 ],\n",
       "       [0.58222709, 0.41777291],\n",
       "       [0.89584925, 0.10415075],\n",
       "       [0.00954493, 0.99045507],\n",
       "       [0.34848227, 0.65151773],\n",
       "       [0.63039201, 0.36960799],\n",
       "       [0.32144998, 0.67855002],\n",
       "       [0.69254545, 0.30745455],\n",
       "       [0.67321744, 0.32678256],\n",
       "       [0.95624989, 0.04375011],\n",
       "       [0.89788525, 0.10211475],\n",
       "       [0.57153356, 0.42846644],\n",
       "       [0.88930958, 0.11069042],\n",
       "       [0.11195081, 0.88804919],\n",
       "       [0.83439491, 0.16560509],\n",
       "       [0.91955449, 0.08044551],\n",
       "       [0.57463811, 0.42536189],\n",
       "       [0.7320456 , 0.2679544 ],\n",
       "       [0.3702834 , 0.6297166 ],\n",
       "       [0.88119164, 0.11880836],\n",
       "       [0.5926616 , 0.4073384 ],\n",
       "       [0.58121368, 0.41878632],\n",
       "       [0.90028311, 0.09971689],\n",
       "       [0.9444486 , 0.0555514 ],\n",
       "       [0.17531566, 0.82468434],\n",
       "       [0.83603913, 0.16396087],\n",
       "       [0.1879668 , 0.8120332 ],\n",
       "       [0.91317061, 0.08682939],\n",
       "       [0.78706045, 0.21293955],\n",
       "       [0.93517815, 0.06482185],\n",
       "       [0.51868776, 0.48131224],\n",
       "       [0.72475036, 0.27524964],\n",
       "       [0.89263289, 0.10736711],\n",
       "       [0.96375488, 0.03624512],\n",
       "       [0.58078617, 0.41921383],\n",
       "       [0.9193914 , 0.0806086 ],\n",
       "       [0.97919843, 0.02080157],\n",
       "       [0.13196908, 0.86803092],\n",
       "       [0.17777863, 0.82222137],\n",
       "       [0.92547743, 0.07452257],\n",
       "       [0.87773106, 0.12226894],\n",
       "       [0.95491548, 0.04508452],\n",
       "       [0.8165279 , 0.1834721 ],\n",
       "       [0.18606019, 0.81393981],\n",
       "       [0.94633515, 0.05366485],\n",
       "       [0.34261934, 0.65738066],\n",
       "       [0.89120549, 0.10879451],\n",
       "       [0.69867337, 0.30132663],\n",
       "       [0.73185484, 0.26814516],\n",
       "       [0.37044671, 0.62955329],\n",
       "       [0.83318796, 0.16681204],\n",
       "       [0.33151639, 0.66848361],\n",
       "       [0.93223924, 0.06776076],\n",
       "       [0.3133516 , 0.6866484 ],\n",
       "       [0.72487193, 0.27512807],\n",
       "       [0.46647087, 0.53352913],\n",
       "       [0.88074747, 0.11925253],\n",
       "       [0.51562133, 0.48437867],\n",
       "       [0.49141421, 0.50858579],\n",
       "       [0.43240784, 0.56759216],\n",
       "       [0.39381387, 0.60618613],\n",
       "       [0.11626724, 0.88373276],\n",
       "       [0.15448955, 0.84551045],\n",
       "       [0.45422781, 0.54577219],\n",
       "       [0.98360005, 0.01639995],\n",
       "       [0.35433237, 0.64566763],\n",
       "       [0.82385752, 0.17614248],\n",
       "       [0.36711272, 0.63288728],\n",
       "       [0.67776983, 0.32223017],\n",
       "       [0.88041232, 0.11958768],\n",
       "       [0.31131678, 0.68868322],\n",
       "       [0.29805171, 0.70194829],\n",
       "       [0.77791316, 0.22208684],\n",
       "       [0.54389811, 0.45610189],\n",
       "       [0.6887844 , 0.3112156 ],\n",
       "       [0.64437877, 0.35562123],\n",
       "       [0.25845285, 0.74154715],\n",
       "       [0.40647837, 0.59352163],\n",
       "       [0.77956476, 0.22043524],\n",
       "       [0.52314141, 0.47685859],\n",
       "       [0.74044679, 0.25955321],\n",
       "       [0.86545391, 0.13454609],\n",
       "       [0.95656226, 0.04343774],\n",
       "       [0.68777711, 0.31222289],\n",
       "       [0.84923153, 0.15076847],\n",
       "       [0.21718691, 0.78281309],\n",
       "       [0.59543117, 0.40456883],\n",
       "       [0.68480907, 0.31519093],\n",
       "       [0.78713148, 0.21286852],\n",
       "       [0.07853623, 0.92146377],\n",
       "       [0.8733575 , 0.1266425 ],\n",
       "       [0.87812562, 0.12187438],\n",
       "       [0.70532684, 0.29467316],\n",
       "       [0.23629574, 0.76370426],\n",
       "       [0.74301126, 0.25698874],\n",
       "       [0.89140805, 0.10859195],\n",
       "       [0.92453258, 0.07546742],\n",
       "       [0.58029049, 0.41970951],\n",
       "       [0.27663404, 0.72336596],\n",
       "       [0.78171584, 0.21828416],\n",
       "       [0.81958335, 0.18041665],\n",
       "       [0.53429322, 0.46570678],\n",
       "       [0.94488956, 0.05511044],\n",
       "       [0.48525813, 0.51474187],\n",
       "       [0.77240081, 0.22759919],\n",
       "       [0.44378539, 0.55621461],\n",
       "       [0.93117385, 0.06882615],\n",
       "       [0.8956363 , 0.1043637 ],\n",
       "       [0.47571574, 0.52428426],\n",
       "       [0.62406748, 0.37593252],\n",
       "       [0.47081028, 0.52918972],\n",
       "       [0.79059764, 0.20940236],\n",
       "       [0.13265716, 0.86734284],\n",
       "       [0.66041408, 0.33958592],\n",
       "       [0.5248693 , 0.4751307 ],\n",
       "       [0.82575191, 0.17424809],\n",
       "       [0.88007518, 0.11992482],\n",
       "       [0.73453235, 0.26546765],\n",
       "       [0.67258893, 0.32741107],\n",
       "       [0.34774556, 0.65225444],\n",
       "       [0.73918232, 0.26081768],\n",
       "       [0.03452207, 0.96547793],\n",
       "       [0.94617157, 0.05382843],\n",
       "       [0.52489514, 0.47510486],\n",
       "       [0.68973705, 0.31026295],\n",
       "       [0.86867752, 0.13132248],\n",
       "       [0.76131232, 0.23868768],\n",
       "       [0.93295319, 0.06704681],\n",
       "       [0.39878949, 0.60121051],\n",
       "       [0.81973421, 0.18026579],\n",
       "       [0.6854282 , 0.3145718 ],\n",
       "       [0.04730352, 0.95269648],\n",
       "       [0.89295644, 0.10704356],\n",
       "       [0.83759348, 0.16240652],\n",
       "       [0.16384214, 0.83615786],\n",
       "       [0.30549329, 0.69450671],\n",
       "       [0.71656783, 0.28343217],\n",
       "       [0.94145644, 0.05854356],\n",
       "       [0.93393328, 0.06606672],\n",
       "       [0.74071901, 0.25928099],\n",
       "       [0.88156269, 0.11843731],\n",
       "       [0.68844515, 0.31155485],\n",
       "       [0.04880581, 0.95119419],\n",
       "       [0.3132126 , 0.6867874 ],\n",
       "       [0.91210209, 0.08789791]])"
      ]
     },
     "execution_count": 16,
     "metadata": {},
     "output_type": "execute_result"
    }
   ],
   "source": [
    "model.predict_proba(X_test)"
   ]
  },
  {
   "cell_type": "code",
   "execution_count": 17,
   "id": "ae35e1d7",
   "metadata": {},
   "outputs": [
    {
     "data": {
      "text/plain": [
       "array([0.42965329, 0.31318451, 0.10054466, 0.06924937, 0.26806957,\n",
       "       0.31931781, 0.32730151, 0.10917924, 0.20319516, 0.2725771 ,\n",
       "       0.41777291, 0.10415075, 0.99045507, 0.65151773, 0.36960799,\n",
       "       0.67855002, 0.30745455, 0.32678256, 0.04375011, 0.10211475,\n",
       "       0.42846644, 0.11069042, 0.88804919, 0.16560509, 0.08044551,\n",
       "       0.42536189, 0.2679544 , 0.6297166 , 0.11880836, 0.4073384 ,\n",
       "       0.41878632, 0.09971689, 0.0555514 , 0.82468434, 0.16396087,\n",
       "       0.8120332 , 0.08682939, 0.21293955, 0.06482185, 0.48131224,\n",
       "       0.27524964, 0.10736711, 0.03624512, 0.41921383, 0.0806086 ,\n",
       "       0.02080157, 0.86803092, 0.82222137, 0.07452257, 0.12226894,\n",
       "       0.04508452, 0.1834721 , 0.81393981, 0.05366485, 0.65738066,\n",
       "       0.10879451, 0.30132663, 0.26814516, 0.62955329, 0.16681204,\n",
       "       0.66848361, 0.06776076, 0.6866484 , 0.27512807, 0.53352913,\n",
       "       0.11925253, 0.48437867, 0.50858579, 0.56759216, 0.60618613,\n",
       "       0.88373276, 0.84551045, 0.54577219, 0.01639995, 0.64566763,\n",
       "       0.17614248, 0.63288728, 0.32223017, 0.11958768, 0.68868322,\n",
       "       0.70194829, 0.22208684, 0.45610189, 0.3112156 , 0.35562123,\n",
       "       0.74154715, 0.59352163, 0.22043524, 0.47685859, 0.25955321,\n",
       "       0.13454609, 0.04343774, 0.31222289, 0.15076847, 0.78281309,\n",
       "       0.40456883, 0.31519093, 0.21286852, 0.92146377, 0.1266425 ,\n",
       "       0.12187438, 0.29467316, 0.76370426, 0.25698874, 0.10859195,\n",
       "       0.07546742, 0.41970951, 0.72336596, 0.21828416, 0.18041665,\n",
       "       0.46570678, 0.05511044, 0.51474187, 0.22759919, 0.55621461,\n",
       "       0.06882615, 0.1043637 , 0.52428426, 0.37593252, 0.52918972,\n",
       "       0.20940236, 0.86734284, 0.33958592, 0.4751307 , 0.17424809,\n",
       "       0.11992482, 0.26546765, 0.32741107, 0.65225444, 0.26081768,\n",
       "       0.96547793, 0.05382843, 0.47510486, 0.31026295, 0.13132248,\n",
       "       0.23868768, 0.06704681, 0.60121051, 0.18026579, 0.3145718 ,\n",
       "       0.95269648, 0.10704356, 0.16240652, 0.83615786, 0.69450671,\n",
       "       0.28343217, 0.05854356, 0.06606672, 0.25928099, 0.11843731,\n",
       "       0.31155485, 0.95119419, 0.6867874 , 0.08789791])"
      ]
     },
     "execution_count": 17,
     "metadata": {},
     "output_type": "execute_result"
    }
   ],
   "source": [
    "Y_pred_prob = model.predict_proba(X_test)[:,1]\n",
    "Y_pred_prob"
   ]
  },
  {
   "cell_type": "markdown",
   "id": "8d81f411",
   "metadata": {},
   "source": [
    "# Classifying all the values as 1 above Threshold 0.3"
   ]
  },
  {
   "cell_type": "code",
   "execution_count": 18,
   "id": "68344a68",
   "metadata": {},
   "outputs": [],
   "source": [
    "from sklearn.preprocessing import binarize"
   ]
  },
  {
   "cell_type": "code",
   "execution_count": 19,
   "id": "9237a7cf",
   "metadata": {},
   "outputs": [
    {
     "data": {
      "text/plain": [
       "array([1., 1., 0., 0., 0., 1., 1., 0., 0., 0., 1., 0., 1., 1., 1., 1., 1.,\n",
       "       1., 0., 0., 1., 0., 1., 0., 0., 1., 0., 1., 0., 1., 1., 0., 0., 1.,\n",
       "       0., 1., 0., 0., 0., 1., 0., 0., 0., 1., 0., 0., 1., 1., 0., 0., 0.,\n",
       "       0., 1., 0., 1., 0., 1., 0., 1., 0., 1., 0., 1., 0., 1., 0., 1., 1.,\n",
       "       1., 1., 1., 1., 1., 0., 1., 0., 1., 1., 0., 1., 1., 0., 1., 1., 1.,\n",
       "       1., 1., 0., 1., 0., 0., 0., 1., 0., 1., 1., 1., 0., 1., 0., 0., 0.,\n",
       "       1., 0., 0., 0., 1., 1., 0., 0., 1., 0., 1., 0., 1., 0., 0., 1., 1.,\n",
       "       1., 0., 1., 1., 1., 0., 0., 0., 1., 1., 0., 1., 0., 1., 1., 0., 0.,\n",
       "       0., 1., 0., 1., 1., 0., 0., 1., 1., 0., 0., 0., 0., 0., 1., 1., 1.,\n",
       "       0.])"
      ]
     },
     "execution_count": 19,
     "metadata": {},
     "output_type": "execute_result"
    }
   ],
   "source": [
    "binarised_Y_pred = binarize([Y_pred_prob],threshold=0.3)[0]   # 2D --> 1D\n",
    "binarised_Y_pred"
   ]
  },
  {
   "cell_type": "code",
   "execution_count": 20,
   "id": "5e285eb6",
   "metadata": {},
   "outputs": [
    {
     "name": "stdout",
     "output_type": "stream",
     "text": [
      "Actual    : [0 0 0 0 0 0 0 0 0 0 0 0 1 1 0 1 1 0 0 0 1 1 1 1 0]\n",
      "Predicted : [1 1 0 0 0 1 1 0 0 0 1 0 1 1 1 1 1 1 0 0 1 0 1 0 0]\n"
     ]
    }
   ],
   "source": [
    "print(f\"Actual    : {Y_test[:25].values}\")\n",
    "print(f\"Predicted : {binarised_Y_pred[:25].astype(int)}\")"
   ]
  },
  {
   "cell_type": "markdown",
   "id": "8d379ac6",
   "metadata": {},
   "source": [
    "# Plotting ROC / AUC Curve"
   ]
  },
  {
   "cell_type": "code",
   "execution_count": 21,
   "id": "0405f303",
   "metadata": {},
   "outputs": [],
   "source": [
    "from sklearn.metrics import roc_curve"
   ]
  },
  {
   "cell_type": "code",
   "execution_count": 22,
   "id": "8e57a8f4",
   "metadata": {},
   "outputs": [],
   "source": [
    "fpr,tpr,thres = roc_curve(Y_test,Y_pred_prob)"
   ]
  },
  {
   "cell_type": "code",
   "execution_count": 23,
   "id": "091b06ee",
   "metadata": {},
   "outputs": [
    {
     "data": {
      "text/plain": [
       "array([1.99045507, 0.99045507, 0.86734284, 0.84551045, 0.76370426,\n",
       "       0.72336596, 0.68868322, 0.6867874 , 0.67855002, 0.66848361,\n",
       "       0.65738066, 0.65225444, 0.6297166 , 0.62955329, 0.60618613,\n",
       "       0.60121051, 0.59352163, 0.56759216, 0.55621461, 0.54577219,\n",
       "       0.52428426, 0.51474187, 0.48437867, 0.4751307 , 0.45610189,\n",
       "       0.42965329, 0.42846644, 0.42536189, 0.41878632, 0.41777291,\n",
       "       0.4073384 , 0.35562123, 0.32741107, 0.31155485, 0.3112156 ,\n",
       "       0.31026295, 0.30132663, 0.29467316, 0.28343217, 0.25955321,\n",
       "       0.25928099, 0.22043524, 0.21828416, 0.18041665, 0.17614248,\n",
       "       0.16681204, 0.16560509, 0.1266425 , 0.12226894, 0.11843731,\n",
       "       0.11069042, 0.01639995])"
      ]
     },
     "execution_count": 23,
     "metadata": {},
     "output_type": "execute_result"
    }
   ],
   "source": [
    "thres"
   ]
  },
  {
   "cell_type": "code",
   "execution_count": 24,
   "id": "79ed3525",
   "metadata": {},
   "outputs": [
    {
     "data": {
      "image/png": "[encoded data removed]",
      "text/plain": [
       "<Figure size 432x288 with 1 Axes>"
      ]
     },
     "metadata": {
      "needs_background": "light"
     },
     "output_type": "display_data"
    }
   ],
   "source": [
    "plt.plot(fpr,tpr)\n",
    "plt.title(\"ROC/AUC\")\n",
    "plt.xlabel(\"FPR\")\n",
    "plt.ylabel(\"TPR\")\n",
    "plt.grid(True)\n",
    "plt.show()"
   ]
  },
  {
   "cell_type": "markdown",
   "id": "ab74e1f8",
   "metadata": {},
   "source": [
    "# Hypertuning the Solver & Penalty"
   ]
  },
  {
   "cell_type": "code",
   "execution_count": 25,
   "id": "aaa0f614",
   "metadata": {},
   "outputs": [
    {
     "name": "stdout",
     "output_type": "stream",
     "text": [
      "['lbfgs', 'l2'] ---> 0.7857142857142857 \n",
      "['lbfgs', 'none'] ---> 0.7857142857142857 \n",
      "['liblinear', 'l1'] ---> 0.7792207792207793 \n",
      "['liblinear', 'l2'] ---> 0.7727272727272727 \n",
      "['newton-cg', 'l2'] ---> 0.7857142857142857 \n",
      "['newton-cg', 'none'] ---> 0.7857142857142857 \n",
      "['sag', 'l2'] ---> 0.6883116883116883 \n",
      "['sag', 'none'] ---> 0.6883116883116883 \n",
      "['saga', 'l1'] ---> 0.6818181818181818 \n",
      "['saga', 'l2'] ---> 0.6818181818181818 \n",
      "['saga', 'none'] ---> 0.6818181818181818 \n"
     ]
    }
   ],
   "source": [
    "\n",
    "params = [ ['lbfgs','l2'],['lbfgs','none'],\n",
    "           ['liblinear','l1'],['liblinear','l2'],\n",
    "           ['newton-cg','l2'],['newton-cg','none'],\n",
    "           ['sag','l2'],['sag','none'],\n",
    "           ['saga','l1'],['saga','l2'],['saga','none']  ]\n",
    "\n",
    "#  ['saga','elasticnet']  --->  Need to perform Scalling on the Data \n",
    "\n",
    "all_combinations = []\n",
    "\n",
    "for i in params:\n",
    "\n",
    "    from sklearn.linear_model import LogisticRegression\n",
    "\n",
    "    model = LogisticRegression(solver=i[0] , penalty=i[1])\n",
    "\n",
    "    model.fit(X_train,Y_train)\n",
    "\n",
    "    Y_pred = model.predict(X_test)\n",
    "    \n",
    "    from sklearn.metrics import accuracy_score\n",
    "    acc = accuracy_score(Y_test,Y_pred)\n",
    "    \n",
    "    print(f\"{i} ---> {acc} \")\n",
    "    \n",
    "    all_combinations.append([i[0],i[1],acc])"
   ]
  },
  {
   "cell_type": "code",
   "execution_count": null,
   "id": "5288b7a3",
   "metadata": {},
   "outputs": [],
   "source": []
  },
  {
   "cell_type": "code",
   "execution_count": 26,
   "id": "9d9a3767",
   "metadata": {},
   "outputs": [],
   "source": [
    "def Get_Best_combintion(Values_List):\n",
    "    max_val = 0\n",
    "    max_index = 0\n",
    "    for i in Values_List:\n",
    "        if max_val < i[2]:\n",
    "            max_val = i[2]\n",
    "            max_index = Values_List.index(i)\n",
    "    return Values_List[max_index]"
   ]
  },
  {
   "cell_type": "code",
   "execution_count": 27,
   "id": "e187f792",
   "metadata": {},
   "outputs": [
    {
     "data": {
      "text/plain": [
       "['lbfgs', 'l2', 0.7857142857142857]"
      ]
     },
     "execution_count": 27,
     "metadata": {},
     "output_type": "execute_result"
    }
   ],
   "source": [
    "Get_Best_combintion(all_combinations)"
   ]
  },
  {
   "cell_type": "markdown",
   "id": "c25d8b7c",
   "metadata": {},
   "source": [
    "# Applying Hypertuned Parameters"
   ]
  },
  {
   "cell_type": "code",
   "execution_count": 28,
   "id": "b5e672a0",
   "metadata": {},
   "outputs": [
    {
     "name": "stdout",
     "output_type": "stream",
     "text": [
      "              precision    recall  f1-score   support\n",
      "\n",
      "           0       0.80      0.89      0.84        99\n",
      "           1       0.75      0.60      0.67        55\n",
      "\n",
      "    accuracy                           0.79       154\n",
      "   macro avg       0.78      0.74      0.75       154\n",
      "weighted avg       0.78      0.79      0.78       154\n",
      "\n"
     ]
    }
   ],
   "source": [
    "from sklearn.linear_model import LogisticRegression\n",
    "\n",
    "model = LogisticRegression(solver='lbfgs', penalty='l2')\n",
    "\n",
    "model.fit(X_train,Y_train)\n",
    "\n",
    "Y_pred = model.predict(X_test)\n",
    "\n",
    "from sklearn.metrics import classification_report\n",
    "print(classification_report(Y_test,Y_pred))"
   ]
  },
  {
   "cell_type": "code",
   "execution_count": 29,
   "id": "ecc4b34a",
   "metadata": {},
   "outputs": [],
   "source": [
    "Y_pred_prob = model.predict_proba(X_test)[:,1]\n",
    "\n",
    "from sklearn.metrics import roc_curve\n",
    "\n",
    "fpr,tpr,thresh = roc_curve(Y_test,Y_pred_prob)"
   ]
  },
  {
   "cell_type": "code",
   "execution_count": 30,
   "id": "323b3d45",
   "metadata": {},
   "outputs": [
    {
     "data": {
      "image/png": "[encoded data removed]",
      "text/plain": [
       "<Figure size 432x288 with 1 Axes>"
      ]
     },
     "metadata": {
      "needs_background": "light"
     },
     "output_type": "display_data"
    }
   ],
   "source": [
    "plt.plot(fpr,tpr)\n",
    "plt.title(\"ROC/AUC\")\n",
    "plt.xlabel(\"FPR\")\n",
    "plt.ylabel(\"TPR\")\n",
    "plt.grid(True)\n",
    "plt.show()"
   ]
  },
  {
   "cell_type": "code",
   "execution_count": null,
   "id": "ee40f208",
   "metadata": {},
   "outputs": [],
   "source": []
  },
  {
   "cell_type": "code",
   "execution_count": null,
   "id": "4c04bbb6",
   "metadata": {},
   "outputs": [],
   "source": []
  },
  {
   "cell_type": "code",
   "execution_count": null,
   "id": "373ab997",
   "metadata": {},
   "outputs": [],
   "source": []
  }
 ],
 "metadata": {
  "kernelspec": {
   "display_name": "Python 3 (ipykernel)",
   "language": "python",
   "name": "python3"
  },
  "language_info": {
   "codemirror_mode": {
    "name": "ipython",
    "version": 3
   },
   "file_extension": ".py",
   "mimetype": "text/x-python",
   "name": "python",
   "nbconvert_exporter": "python",
   "pygments_lexer": "ipython3",
   "version": "3.10.0"
  },
  "vscode": {
   "interpreter": {
    "hash": "369f2c481f4da34e4445cda3fffd2e751bd1c4d706f27375911949ba6bb62e1c"
   }
  }
 },
 "nbformat": 4,
 "nbformat_minor": 5
}
